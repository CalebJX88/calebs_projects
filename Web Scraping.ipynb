{
 "cells": [
  {
   "cell_type": "code",
   "execution_count": 38,
   "id": "17fb1465-aceb-4aaf-a5a0-7c43f7a40794",
   "metadata": {},
   "outputs": [],
   "source": [
    "import requests\n",
    "import lxml\n",
    "import bs4\n",
    "from bs4 import BeautifulSoup\n",
    "from io import BytesIO"
   ]
  },
  {
   "cell_type": "code",
   "execution_count": 39,
   "id": "92d8c03d-5ed3-44da-9cce-14dcb1435338",
   "metadata": {},
   "outputs": [],
   "source": [
    "url = \"https://www.theweeknd.com/\"  \n",
    "response = requests.get(url)"
   ]
  },
  {
   "cell_type": "code",
   "execution_count": 40,
   "id": "1841e17c-f909-4e64-a1a1-5e9e5ec496e8",
   "metadata": {},
   "outputs": [],
   "source": [
    "soup = bs4.BeautifulSoup(response.text, 'lxml')"
   ]
  },
  {
   "cell_type": "code",
   "execution_count": 41,
   "id": "a13692be-6980-4a90-9cde-031f975815c5",
   "metadata": {},
   "outputs": [
    {
     "name": "stdout",
     "output_type": "stream",
     "text": [
      "#\n",
      "http://privacypolicy.umusic.com/\n",
      "https://www.universalmusic.com/CCPA/\n",
      "http://privacypolicy.umusic.com/\n",
      "https://www.universalmusic.com/CCPA/\n",
      "#\n",
      "#\n",
      "#\n",
      "#\n",
      "http://privacypolicy.umusic.com/\n",
      "https://www.universalmusic.com/CCPA/\n",
      "http://privacypolicy.umusic.com/\n",
      "https://www.universalmusic.com/CCPA/\n",
      "#\n",
      "#\n",
      "https://www.theweeknd.com/\n",
      "/\n",
      "/news/\n",
      "https://www.theweeknd.com/tour/\n",
      "https://www.theweeknd.com/music/\n",
      "https://www.theweeknd.com/videos/\n",
      "https://shop.theweeknd.com/\n",
      "https://www.wfpusa.org/xofund\n",
      "https://www.facebook.com/theweeknd\n",
      "https://www.instagram.com/theweeknd/\n",
      "https://soundcloud.com/theweeknd\n",
      "https://itunes.apple.com/us/artist/the-weeknd/479756766\n",
      "https://open.spotify.com/artist/1Xyo4u8uXC1ZmMpatF05PJ\n",
      "https://twitter.com/TheWeeknd\n",
      "https://www.youtube.com/user/TheWeekndVEVO\n",
      "/\n",
      "/news/\n",
      "https://www.theweeknd.com/tour/\n",
      "https://www.theweeknd.com/music/\n",
      "https://www.theweeknd.com/videos/\n",
      "https://shop.theweeknd.com/\n",
      "https://www.wfpusa.org/xofund\n",
      "#\n",
      "/tour\n",
      "http://theweeknd.co/DoubleFantasyWE\n",
      "http://theweeknd.co/StarboyDLX\n",
      "http://theweeknd.co/AHLiveatSoFiWE\n",
      "http://theweeknd.co/DieForYouRmxWE\n",
      "http://theweeknd.co/OOTRemixWE\n",
      "https://shop.theweeknd.com/?utm_campaign=products&utm_medium=referral&utm_source=theweeknd.com\n",
      "https://www.facebook.com/theweeknd\n",
      "https://www.instagram.com/theweeknd/\n",
      "https://soundcloud.com/theweeknd\n",
      "https://itunes.apple.com/us/artist/the-weeknd/479756766\n",
      "https://open.spotify.com/artist/1Xyo4u8uXC1ZmMpatF05PJ\n",
      "https://twitter.com/TheWeeknd\n",
      "https://www.youtube.com/user/TheWeekndVEVO\n",
      "http://www.republicrecords.com\n",
      "https://privacypolicy.umusic.com/terms/\n",
      "https://privacypolicy.umusic.com/\n",
      "https://privacy.universalmusic.com/CCPA\n"
     ]
    }
   ],
   "source": [
    "links = soup.find_all(\"a\")\n",
    "for link in links:\n",
    "    print(link.get(\"href\"))"
   ]
  },
  {
   "cell_type": "code",
   "execution_count": 42,
   "id": "b5da2008-afc3-4582-bb70-14aa74f9439c",
   "metadata": {},
   "outputs": [],
   "source": [
    "images = soup.find_all(\"img\")\n",
    "images = soup.select(\"img\")"
   ]
  },
  {
   "cell_type": "code",
   "execution_count": 43,
   "id": "d3c4b99e-394e-428a-ba18-46d4ebf7ec83",
   "metadata": {},
   "outputs": [
    {
     "name": "stdout",
     "output_type": "stream",
     "text": [
      "https://www.theweeknd.com/files/2022/11/tw-sitelogo.png\n",
      "https://www.theweeknd.com/files/2022/02/weeknd-header-v2.jpg\n",
      "https://i.ytimg.com/vi/iOa7uE23qc4/sddefault.jpg\n",
      "https://i.ytimg.com/vi/TfEwkrTPyMk/sddefault.jpg\n",
      "https://i.ytimg.com/vi/gKVdq0FtQXc/sddefault.jpg\n",
      "https://i.ytimg.com/vi/VafTMsrnSTU/sddefault.jpg\n",
      "https://i.ytimg.com/vi/rhTl_OyehF8/sddefault.jpg\n",
      "https://www.theweeknd.com/files/2021/10/photo_202110_07_SPOTIFY-BRIANZIFF_THEWEEKND_1063-1.jpeg\n",
      "https://www.theweeknd.com/files/2021/10/photo_202110_07_GENERAL-BRIANZIFF_THEWEEKND_1092-crop-1.jpeg\n",
      "https://www.theweeknd.com/files/2021/10/photo_202110_07_BRIANZIFF_THEWEEKND_74-1_0.jpeg\n",
      "https://www.theweeknd.com/files/2021/10/photo_202110_07_GENERAL-BRIANZIFF_THEWEEKND_1323-crop-1.jpeg\n",
      "https://www.theweeknd.com/files/2021/10/photo_202110_07_GENERAL-BRIANZIFF_THEWEEKND_800_1-WITH-BEAUTY-crop-1.jpeg\n",
      "https://www.theweeknd.com/files/2021/10/photo_202110_07_GENERAL-BRIANZIFF_THEWEEKND_100-1.jpeg\n",
      "https://www.theweeknd.com/files/2021/10/photo_202110_07_GENERAL-BRIANZIFF_THEWEEKND_67_A-crop-1.jpeg\n",
      "https://www.theweeknd.com/files/2021/10/photo_202110_07_GENERAL-BRIANZIFF_THEWEEKND_214-1.jpeg\n",
      "https://www.theweeknd.com/files/2021/10/photo_202110_07_BRIANZIFF_THEWEEKND_74-1.jpeg\n",
      "https://www.theweeknd.com/files/2021/10/photo_202110_07_00_00_39_12-1-1.jpg\n",
      "https://www.theweeknd.com/files/2021/10/photo_202110_07_00_00_38_07-1-1.jpg\n",
      "https://www.theweeknd.com/files/2023/04/1the-idol-spotify-double-fantasy-10x10_300dpi-768x768.jpg\n",
      "https://www.theweeknd.com/files/2023/03/TW-STARBOY-DELUXE-COVER-EXPLICIT-768x768.jpg\n",
      "https://www.theweeknd.com/files/2023/03/TW-LIVEATSOFI-CLEAN-768x768.jpg\n",
      "https://www.theweeknd.com/files/2023/02/TW-DFYR-COVER-FINAL-768x768.jpg\n",
      "https://www.theweeknd.com/files/2022/04/release_202204_ab67616d0000b273819c4a2ccbe75cbdf8cf71ff.jpg\n",
      "https://www.theweeknd.com/files/2018/01/photo_201801_29_web10.jpg\n",
      "https://www.theweeknd.com/files/2017/11/photo_201711_13_000033520004.JPG\n",
      "https://www.theweeknd.com/files/2017/08/photo_201708_16_29.jpg\n",
      "https://www.theweeknd.com/files/2017/06/photo_201706_23_Untitled-25.jpg\n",
      "https://www.theweeknd.com/files/2017/05/photo_201705_15_IMG_9757.jpg\n",
      "https://www.theweeknd.com/files/2017/04/photo_201704_17_XO-5442.JPG\n",
      "https://www.theweeknd.com/files/2017/04/photo_201704_17_523542-R1-10-27.jpg\n",
      "https://www.theweeknd.com/files/2018/01/photo_201801_29_web1.jpg\n",
      "https://www.theweeknd.com/files/2017/04/photo_201704_19_xo-16.JPG\n",
      "https://www.theweeknd.com/files/2017/12/photo_201712_06_TW-RELEASE003PARTTWO-LOOKBOOK-COVER.jpg\n",
      "https://www.theweeknd.com/files/2017/12/photo_201712_06_img008.jpg\n",
      "https://www.theweeknd.com/files/2017/11/photo_201711_13_000029140001.JPG\n",
      "https://www.theweeknd.com/files/2017/08/photo_201708_16_10.jpg\n",
      "https://www.theweeknd.com/files/2017/06/photo_201706_23_X4.jpg\n",
      "https://www.theweeknd.com/files/2017/05/photo_201705_15_IMG_0001.jpg\n",
      "https://www.theweeknd.com/files/2017/04/photo_201704_19_xo-2.JPG\n",
      "https://www.theweeknd.com/files/2017/04/photo_201704_17_XO-5127-2.JPG\n",
      "https://www.theweeknd.com/files/2017/04/photo_201704_17_STARBOY-2017-01.jpg\n",
      "https://www.theweeknd.com/files/2017/04/photo_201704_17_STARBOY-2017-02.jpg\n",
      "https://www.theweeknd.com/files/2017/04/photo_201704_17_18710016.jpg\n",
      "https://www.theweeknd.com/files/2017/04/photo_201704_17_18720011.jpg\n",
      "https://www.theweeknd.com/files/2017/04/photo_201704_17_523874-R1-00-37.jpg\n",
      "https://www.theweeknd.com/files/2017/04/photo_201704_17_523874-R1-03-34.jpg\n",
      "https://www.theweeknd.com/files/2017/04/photo_201704_17_523541-R1-06-31_.jpg\n"
     ]
    }
   ],
   "source": [
    "for image in images:\n",
    "    image_url = image[\"src\"]\n",
    "    print(image_url)"
   ]
  },
  {
   "cell_type": "code",
   "execution_count": 47,
   "id": "306b3137-680f-414a-945e-5f99b3804acd",
   "metadata": {},
   "outputs": [
    {
     "data": {
      "text/html": [
       "<img src=\"/static/images/icons/wikipedia.png\"/>"
      ],
      "text/plain": [
       "<IPython.core.display.Image object>"
      ]
     },
     "metadata": {},
     "output_type": "display_data"
    },
    {
     "data": {
      "text/html": [
       "<img src=\"/static/images/mobile/copyright/wikipedia-wordmark-en.svg\"/>"
      ],
      "text/plain": [
       "<IPython.core.display.Image object>"
      ]
     },
     "metadata": {},
     "output_type": "display_data"
    },
    {
     "data": {
      "text/html": [
       "<img src=\"/static/images/mobile/copyright/wikipedia-tagline-en.svg\"/>"
      ],
      "text/plain": [
       "<IPython.core.display.Image object>"
      ]
     },
     "metadata": {},
     "output_type": "display_data"
    },
    {
     "data": {
      "text/html": [
       "<img src=\"//upload.wikimedia.org/wikipedia/en/thumb/1/1b/Semi-protection-shackle.svg/20px-Semi-protection-shackle.svg.png\"/>"
      ],
      "text/plain": [
       "<IPython.core.display.Image object>"
      ]
     },
     "metadata": {},
     "output_type": "display_data"
    },
    {
     "data": {
      "text/html": [
       "<img src=\"//upload.wikimedia.org/wikipedia/commons/thumb/a/a0/The_Weeknd_Portrait_by_Brian_Ziff.jpg/220px-The_Weeknd_Portrait_by_Brian_Ziff.jpg\"/>"
      ],
      "text/plain": [
       "<IPython.core.display.Image object>"
      ]
     },
     "metadata": {},
     "output_type": "display_data"
    },
    {
     "data": {
      "text/html": [
       "<img src=\"//upload.wikimedia.org/wikipedia/commons/thumb/1/19/The_Weeknd_signature.png/40px-The_Weeknd_signature.png\"/>"
      ],
      "text/plain": [
       "<IPython.core.display.Image object>"
      ]
     },
     "metadata": {},
     "output_type": "display_data"
    },
    {
     "data": {
      "text/html": [
       "<img src=\"//upload.wikimedia.org/wikipedia/commons/thumb/4/4b/The_Weeknd_by_David_Hwang.jpg/220px-The_Weeknd_by_David_Hwang.jpg\"/>"
      ],
      "text/plain": [
       "<IPython.core.display.Image object>"
      ]
     },
     "metadata": {},
     "output_type": "display_data"
    },
    {
     "data": {
      "text/html": [
       "<img src=\"//upload.wikimedia.org/wikipedia/commons/thumb/0/08/The_Weeknd_at_Massey_Hall_October_17%2C_2013_amber_lighting.jpg/220px-The_Weeknd_at_Massey_Hall_October_17%2C_2013_amber_lighting.jpg\"/>"
      ],
      "text/plain": [
       "<IPython.core.display.Image object>"
      ]
     },
     "metadata": {},
     "output_type": "display_data"
    },
    {
     "data": {
      "text/html": [
       "<img src=\"//upload.wikimedia.org/wikipedia/commons/thumb/0/06/The_Weeknd_Bumbershoot_2015.jpg/170px-The_Weeknd_Bumbershoot_2015.jpg\"/>"
      ],
      "text/plain": [
       "<IPython.core.display.Image object>"
      ]
     },
     "metadata": {},
     "output_type": "display_data"
    },
    {
     "data": {
      "text/html": [
       "<img src=\"//upload.wikimedia.org/wikipedia/commons/thumb/e/e0/The_Weeknd_%28253662129%29.jpeg/173px-The_Weeknd_%28253662129%29.jpeg\"/>"
      ],
      "text/plain": [
       "<IPython.core.display.Image object>"
      ]
     },
     "metadata": {},
     "output_type": "display_data"
    },
    {
     "data": {
      "text/html": [
       "<img src=\"//upload.wikimedia.org/wikipedia/commons/thumb/8/8f/The_Weeknd_with_hand_in_the_air_performing_live_in_Hong_Kong_in_November_2018_%28cropped%29.jpg/201px-The_Weeknd_with_hand_in_the_air_performing_live_in_Hong_Kong_in_November_2018_%28cropped%29.jpg\"/>"
      ],
      "text/plain": [
       "<IPython.core.display.Image object>"
      ]
     },
     "metadata": {},
     "output_type": "display_data"
    },
    {
     "data": {
      "text/html": [
       "<img src=\"//upload.wikimedia.org/wikipedia/commons/thumb/6/66/Raymond_James_Stadium_%2850898195996%29.jpg/220px-Raymond_James_Stadium_%2850898195996%29.jpg\"/>"
      ],
      "text/plain": [
       "<IPython.core.display.Image object>"
      ]
     },
     "metadata": {},
     "output_type": "display_data"
    },
    {
     "data": {
      "text/html": [
       "<img src=\"//upload.wikimedia.org/wikipedia/commons/thumb/0/04/Michael_Jackson_1984.jpg/105px-Michael_Jackson_1984.jpg\"/>"
      ],
      "text/plain": [
       "<IPython.core.display.Image object>"
      ]
     },
     "metadata": {},
     "output_type": "display_data"
    },
    {
     "data": {
      "text/html": [
       "<img src=\"//upload.wikimedia.org/wikipedia/commons/thumb/5/51/Prince_at_Coachella_001_%28upres_retouch%29.jpg/106px-Prince_at_Coachella_001_%28upres_retouch%29.jpg\"/>"
      ],
      "text/plain": [
       "<IPython.core.display.Image object>"
      ]
     },
     "metadata": {},
     "output_type": "display_data"
    },
    {
     "data": {
      "text/html": [
       "<img src=\"//upload.wikimedia.org/wikipedia/commons/thumb/2/26/R._Kelly_2002_Mugshot.jpg/120px-R._Kelly_2002_Mugshot.jpg\"/>"
      ],
      "text/plain": [
       "<IPython.core.display.Image object>"
      ]
     },
     "metadata": {},
     "output_type": "display_data"
    },
    {
     "data": {
      "text/html": [
       "<img src=\"//upload.wikimedia.org/wikipedia/en/thumb/4/4a/Commons-logo.svg/20px-Commons-logo.svg.png\"/>"
      ],
      "text/plain": [
       "<IPython.core.display.Image object>"
      ]
     },
     "metadata": {},
     "output_type": "display_data"
    },
    {
     "data": {
      "text/html": [
       "<img src=\"//upload.wikimedia.org/wikipedia/commons/thumb/f/fa/Wikiquote-logo.svg/23px-Wikiquote-logo.svg.png\"/>"
      ],
      "text/plain": [
       "<IPython.core.display.Image object>"
      ]
     },
     "metadata": {},
     "output_type": "display_data"
    },
    {
     "data": {
      "text/html": [
       "<img src=\"//upload.wikimedia.org/wikipedia/commons/thumb/f/ff/Wikidata-logo.svg/27px-Wikidata-logo.svg.png\"/>"
      ],
      "text/plain": [
       "<IPython.core.display.Image object>"
      ]
     },
     "metadata": {},
     "output_type": "display_data"
    },
    {
     "data": {
      "text/html": [
       "<img src=\"//upload.wikimedia.org/wikipedia/en/thumb/9/96/Symbol_category_class.svg/16px-Symbol_category_class.svg.png\"/>"
      ],
      "text/plain": [
       "<IPython.core.display.Image object>"
      ]
     },
     "metadata": {},
     "output_type": "display_data"
    },
    {
     "data": {
      "text/html": [
       "<img src=\"//upload.wikimedia.org/wikipedia/en/thumb/9/96/Symbol_category_class.svg/16px-Symbol_category_class.svg.png\"/>"
      ],
      "text/plain": [
       "<IPython.core.display.Image object>"
      ]
     },
     "metadata": {},
     "output_type": "display_data"
    },
    {
     "data": {
      "text/html": [
       "<img src=\"//upload.wikimedia.org/wikipedia/en/thumb/6/69/P_vip.svg/19px-P_vip.svg.png\"/>"
      ],
      "text/plain": [
       "<IPython.core.display.Image object>"
      ]
     },
     "metadata": {},
     "output_type": "display_data"
    },
    {
     "data": {
      "text/html": [
       "<img src=\"//upload.wikimedia.org/wikipedia/commons/thumb/f/fc/Maple_Leaf_%28from_roundel%29.svg/17px-Maple_Leaf_%28from_roundel%29.svg.png\"/>"
      ],
      "text/plain": [
       "<IPython.core.display.Image object>"
      ]
     },
     "metadata": {},
     "output_type": "display_data"
    },
    {
     "data": {
      "text/html": [
       "<img src=\"//upload.wikimedia.org/wikipedia/commons/thumb/f/ff/GClef.svg/7px-GClef.svg.png\"/>"
      ],
      "text/plain": [
       "<IPython.core.display.Image object>"
      ]
     },
     "metadata": {},
     "output_type": "display_data"
    },
    {
     "data": {
      "text/html": [
       "<img src=\"//upload.wikimedia.org/wikipedia/en/thumb/8/8a/OOjs_UI_icon_edit-ltr-progressive.svg/10px-OOjs_UI_icon_edit-ltr-progressive.svg.png\"/>"
      ],
      "text/plain": [
       "<IPython.core.display.Image object>"
      ]
     },
     "metadata": {},
     "output_type": "display_data"
    },
    {
     "data": {
      "text/html": [
       "<img src=\"//en.wikipedia.org/wiki/Special:CentralAutoLogin/start?type=1x1\"/>"
      ],
      "text/plain": [
       "<IPython.core.display.Image object>"
      ]
     },
     "metadata": {},
     "output_type": "display_data"
    },
    {
     "data": {
      "text/html": [
       "<img src=\"/static/images/footer/wikimedia-button.png\"/>"
      ],
      "text/plain": [
       "<IPython.core.display.Image object>"
      ]
     },
     "metadata": {},
     "output_type": "display_data"
    },
    {
     "data": {
      "text/html": [
       "<img src=\"/static/images/footer/poweredby_mediawiki_88x31.png\"/>"
      ],
      "text/plain": [
       "<IPython.core.display.Image object>"
      ]
     },
     "metadata": {},
     "output_type": "display_data"
    }
   ],
   "source": [
    "import requests\n",
    "from bs4 import BeautifulSoup\n",
    "from IPython.display import Image, display\n",
    "\n",
    "# Send a GET request to the webpage\n",
    "url = \"https://en.wikipedia.org/wiki/The_Weeknd\"  # Replace with the target URL\n",
    "response = requests.get(url)\n",
    "\n",
    "# Create a BeautifulSoup object\n",
    "soup = BeautifulSoup(response.content, \"html.parser\")\n",
    "\n",
    "# Find all image tags (<img>) in the HTML\n",
    "images = soup.find_all(\"img\")\n",
    "\n",
    "# Iterate through the images and display them\n",
    "for image in images:\n",
    "    image_url = image[\"src\"]\n",
    "    # Display the image using IPython's display module\n",
    "    display(Image(url=image_url))\n"
   ]
  },
  {
   "cell_type": "code",
   "execution_count": null,
   "id": "1795c0b2-da05-4c59-a779-78549d40c22a",
   "metadata": {},
   "outputs": [],
   "source": []
  }
 ],
 "metadata": {
  "kernelspec": {
   "display_name": "Python 3 (ipykernel)",
   "language": "python",
   "name": "python3"
  },
  "language_info": {
   "codemirror_mode": {
    "name": "ipython",
    "version": 3
   },
   "file_extension": ".py",
   "mimetype": "text/x-python",
   "name": "python",
   "nbconvert_exporter": "python",
   "pygments_lexer": "ipython3",
   "version": "3.9.7"
  }
 },
 "nbformat": 4,
 "nbformat_minor": 5
}
